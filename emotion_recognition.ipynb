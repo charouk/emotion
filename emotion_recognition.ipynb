{
 "cells": [
  {
   "cell_type": "code",
   "execution_count": null,
   "id": "f0ec8b87",
   "metadata": {},
   "outputs": [],
   "source": [
    "#import libraries \n",
    "import pandas as pd\n",
    "import numpy as np\n",
    "import matplotlib.pyplot as plt \n",
    "import seaborn as sns\n",
    "from pylab import *\n",
    "import keras\n",
    "import keras.utils\n",
    "%matplotlib inline"
   ]
  },
  {
   "cell_type": "markdown",
   "id": "2bf9b24c",
   "metadata": {},
   "source": [
    "### load  the data"
   ]
  },
  {
   "cell_type": "code",
   "execution_count": null,
   "id": "f9e333e1",
   "metadata": {},
   "outputs": [],
   "source": [
    "df=pd.read_csv(r'C:\\Users\\ichra\\Downloads\\fer2013.csv')\n",
    "df"
   ]
  },
  {
   "cell_type": "markdown",
   "id": "fdf58f7a",
   "metadata": {},
   "source": [
    "0=Angry, 1=Disgust, 2=Fear, 3=Happy, 4=Sad, 5=Surprise, 6=Neutral"
   ]
  },
  {
   "cell_type": "code",
   "execution_count": null,
   "id": "ea802522",
   "metadata": {},
   "outputs": [],
   "source": [
    "print(\"Information about data: \") \n",
    "df.info()"
   ]
  },
  {
   "cell_type": "code",
   "execution_count": null,
   "id": "cc45841e",
   "metadata": {},
   "outputs": [],
   "source": [
    "df.shape"
   ]
  },
  {
   "cell_type": "code",
   "execution_count": null,
   "id": "80dfe611",
   "metadata": {},
   "outputs": [],
   "source": [
    "df.isnull().sum()"
   ]
  },
  {
   "cell_type": "code",
   "execution_count": null,
   "id": "18fa5f2f",
   "metadata": {},
   "outputs": [],
   "source": [
    "# 0=Angry, 1=Disgust, 2=Fear, 3=Happy, 4=Sad, 5=Surprise, 6=Neutral\n",
    "df['emotion'].value_counts().plot(kind='bar')\n",
    "plt.title('number of emotions')\n",
    "plt.xlabel('emotions')\n",
    "plt.ylabel('Count')\n",
    "sns.despine"
   ]
  },
  {
   "cell_type": "code",
   "execution_count": null,
   "id": "b7fc4832",
   "metadata": {},
   "outputs": [],
   "source": [
    "df.Usage"
   ]
  },
  {
   "cell_type": "code",
   "execution_count": null,
   "id": "7b783de2",
   "metadata": {},
   "outputs": [],
   "source": [
    "#0=Angry, 1=Disgust, 2=Fear, 3=Happy, 4=Sad, 5=Surprise, 6=Neutral\n",
    "len_angry = len(df[\"emotion\"][df.emotion == 0])\n",
    "len_Disgust = len(df[\"emotion\"][df.emotion == 1])\n",
    "len_Fear = len(df[\"emotion\"][df.emotion == 2])\n",
    "len_Happy = len(df[\"emotion\"][df.emotion == 3])\n",
    "len_Sad = len(df[\"emotion\"][df.emotion == 4])\n",
    "len_Surprise = len(df[\"emotion\"][df.emotion == 5])\n",
    "len_Neutral= len(df[\"emotion\"][df.emotion == 6])\n",
    "\n",
    "arr = np.array([len_angry,len_Disgust,len_Fear,len_Happy,len_Sad,len_Surprise,len_Neutral]) \n",
    "labels = ['Angry','Disgust','Fear','Happy','Sad','Surprise','Neutral'] \n",
    "print(\"Total of Angry set :- \", len_angry)\n",
    "print(\"Total of Disgust set :- \", len_Disgust)\n",
    "print(\"Total of fear set :- \", len_Fear)\n",
    "print(\"Total of happy set :- \", len_Happy)\n",
    "print(\"Total of sad set :- \", len_Sad)\n",
    "print(\"Total of surprise set :- \", len_Surprise)\n",
    "print(\"Total of neutral set :- \", len_Neutral)\n",
    "\n",
    "\n",
    "plt.pie(arr, labels=labels, explode = [0.2,0.2,0.2,0.2,0.2,0.2,0.2] , shadow=True) \n",
    "plt.show() "
   ]
  },
  {
   "cell_type": "code",
   "execution_count": null,
   "id": "3c3f11bc",
   "metadata": {},
   "outputs": [],
   "source": [
    "df[\"Usage\"]"
   ]
  },
  {
   "cell_type": "markdown",
   "id": "0878542e",
   "metadata": {},
   "source": [
    "# Data development"
   ]
  },
  {
   "cell_type": "code",
   "execution_count": null,
   "id": "e7262e8a",
   "metadata": {},
   "outputs": [],
   "source": [
    "num_classes = 7 #0=Angry, 1=Disgust, 2=Fear, 3=Happy, 4=Sad, 5=Surprise, 6=Neutral\n",
    "#initialize trainset and test set\n",
    "x_train, y_train, x_test, y_test = [], [], [], []\n",
    "\n",
    "for i in range(len(df)):\n",
    "    emotion=df['emotion'][i]\n",
    "    usage=df['Usage'][i]\n",
    "    val = df['pixels'][i].split(\" \")\n",
    "    pixels = np.array(val, 'float32')\n",
    "    \n",
    "    emotion = keras.utils.to_categorical(emotion, num_classes)\n",
    "    \n",
    "    if 'Training' in usage:\n",
    "            y_train.append(emotion)\n",
    "            x_train.append(pixels)\n",
    "    elif 'PublicTest' in usage:\n",
    "            y_test.append(emotion)\n",
    "            x_test.append(pixels)\n",
    "  \n",
    "    "
   ]
  },
  {
   "cell_type": "code",
   "execution_count": null,
   "id": "349b808c",
   "metadata": {},
   "outputs": [],
   "source": [
    "#data transformation for train and test sets\n",
    "x_train = np.array(x_train, 'float32')\n",
    "y_train = np.array(y_train, 'float32')\n",
    "x_test = np.array(x_test, 'float32')\n",
    "y_test = np.array(y_test, 'float32')\n"
   ]
  },
  {
   "cell_type": "code",
   "execution_count": null,
   "id": "e91a09c6",
   "metadata": {},
   "outputs": [],
   "source": [
    "x_train /= 255 #normalize inputs between [0, 1] to be in the same scale\n",
    "x_test /= 255\n"
   ]
  },
  {
   "cell_type": "code",
   "execution_count": null,
   "id": "d6390363",
   "metadata": {},
   "outputs": [],
   "source": [
    "print (\"the samples train: \" ,x_train.shape)\n",
    "print(\"the samples test:\", x_test.shape)"
   ]
  },
  {
   "cell_type": "code",
   "execution_count": null,
   "id": "08279feb",
   "metadata": {},
   "outputs": [],
   "source": [
    "# y_train and y_test should be a 1d array\n",
    "y=pd.DataFrame(y_train)\n",
    "y = y.apply(lambda x: x.argmax(), axis=1)\n",
    "y=np.array(y)\n",
    "y_t=pd.DataFrame(y_test)\n",
    "y_t=y_t.apply(lambda x: x.argmax(), axis=1)\n",
    "y_t=np.array(y_t)"
   ]
  },
  {
   "cell_type": "markdown",
   "id": "9f2b2877",
   "metadata": {},
   "source": [
    "# Model Development"
   ]
  },
  {
   "cell_type": "markdown",
   "id": "aa27647f",
   "metadata": {},
   "source": [
    "First we will extrat features using the Histogram of Oriented Gradient extractor (HOG), Then put these features in the suport vector machine (svm) algorithm and calculate the accuracy  "
   ]
  },
  {
   "cell_type": "code",
   "execution_count": null,
   "id": "3f12b956",
   "metadata": {},
   "outputs": [],
   "source": [
    "#HOG Features \n",
    "from skimage.feature import hog"
   ]
  },
  {
   "cell_type": "code",
   "execution_count": null,
   "id": "e52969ac",
   "metadata": {},
   "outputs": [],
   "source": [
    "#reshape the train and test set\n",
    "x_train = x_train.reshape(x_train.shape[0], 48,48,1)\n",
    "x_train = x_train.astype('float32')\n",
    "x_test = x_test.reshape(x_test.shape[0], 48,48,1)\n",
    "x_test = x_test.astype('float32')\n"
   ]
  },
  {
   "cell_type": "code",
   "execution_count": null,
   "id": "6c1c492e",
   "metadata": {},
   "outputs": [],
   "source": [
    "#extracting HOG features from train set\n",
    "X_Hog=[]\n",
    "for i in range (len(x_train)):\n",
    "    fd, hog_image = hog(x_train[i], orientations=9, pixels_per_cell=(6, 6),\n",
    "                \tcells_per_block=(2, 2), visualize=True, multichannel=True)\n",
    "    X_Hog.append(hog_image)\n",
    "X_Hog"
   ]
  },
  {
   "cell_type": "code",
   "execution_count": null,
   "id": "37c74bbb",
   "metadata": {},
   "outputs": [],
   "source": [
    "X_Hog=np.array(X_Hog, 'float32')\n",
    "nsamples, nx, ny = X_Hog.shape\n",
    "X2_Hog = X_Hog.reshape((nsamples,nx*ny))\n"
   ]
  },
  {
   "cell_type": "code",
   "execution_count": null,
   "id": "2cec9109",
   "metadata": {},
   "outputs": [],
   "source": [
    "#extracting HOG features from test set \n",
    "Xt_Hog=[]\n",
    "for i in range (len(x_test)):\n",
    "    fd, hog_image = hog(x_test[i], orientations=9, pixels_per_cell=(16, 16),\n",
    "                \tcells_per_block=(2, 2), visualize=True, multichannel=True)\n",
    "    Xt_Hog.append(hog_image)\n"
   ]
  },
  {
   "cell_type": "code",
   "execution_count": null,
   "id": "a708c20e",
   "metadata": {},
   "outputs": [],
   "source": [
    "Xt_Hog=np.array(Xt_Hog, 'float32')\n",
    "nsamples, nx, ny = Xt_Hog.shape\n",
    "Xt2_Hog = Xt_Hog.reshape((nsamples,nx*ny))"
   ]
  },
  {
   "cell_type": "markdown",
   "id": "0fbc44c6",
   "metadata": {},
   "source": [
    "# SVM classifier"
   ]
  },
  {
   "cell_type": "code",
   "execution_count": null,
   "id": "3eba7b8f",
   "metadata": {},
   "outputs": [],
   "source": [
    "from sklearn.svm import LinearSVC\n",
    "from sklearn.model_selection import GridSearchCV \n",
    "\n",
    "grid = GridSearchCV(LinearSVC(dual=False), {'C': [1.0, 0.01,0.001,10.0,2.0,4.0]},cv=3)\n",
    "grid.fit(X2_Hog, y)"
   ]
  },
  {
   "cell_type": "code",
   "execution_count": null,
   "id": "114d75c4",
   "metadata": {},
   "outputs": [],
   "source": [
    "# make predictions on test set\n",
    "pred=grid.predict(Xt2_Hog)"
   ]
  },
  {
   "cell_type": "code",
   "execution_count": null,
   "id": "5cceebf3",
   "metadata": {},
   "outputs": [],
   "source": [
    "# compute and print accuracy score\n",
    "# import metrics to compute accuracy\n",
    "from sklearn.metrics import accuracy_score\n",
    "print('Model accuracy score:{0:0.4f}'. format(accuracy_score(y_t, pred)))"
   ]
  },
  {
   "cell_type": "markdown",
   "id": "deda91bd",
   "metadata": {},
   "source": [
    "# Implement Deep Learning model"
   ]
  },
  {
   "cell_type": "code",
   "execution_count": null,
   "id": "5727cb91",
   "metadata": {},
   "outputs": [],
   "source": [
    "from keras.preprocessing.image import ImageDataGenerator \n",
    "datagen = ImageDataGenerator( \n",
    "    rescale=1./255,\n",
    "    rotation_range = 10,\n",
    "    horizontal_flip = True,\n",
    "    width_shift_range=0.1,\n",
    "    height_shift_range=0.1,\n",
    "    fill_mode = 'nearest')"
   ]
  },
  {
   "cell_type": "code",
   "execution_count": null,
   "id": "39e8722b",
   "metadata": {},
   "outputs": [],
   "source": [
    "testgen = ImageDataGenerator(rescale=1./255)\n",
    "datagen.fit(x_train)"
   ]
  },
  {
   "cell_type": "code",
   "execution_count": null,
   "id": "5a994c77",
   "metadata": {},
   "outputs": [],
   "source": [
    "batch_size = 12"
   ]
  },
  {
   "cell_type": "code",
   "execution_count": null,
   "id": "a83dd712",
   "metadata": {},
   "outputs": [],
   "source": [
    "train_flow = datagen.flow(x_train, y_train, batch_size=batch_size) \n",
    "test_flow = testgen.flow(x_test, y_test, batch_size=batch_size)"
   ]
  },
  {
   "cell_type": "code",
   "execution_count": null,
   "id": "be1b0e2b",
   "metadata": {},
   "outputs": [],
   "source": [
    "#import the necessary moduls\n",
    "from keras.utils import plot_model\n",
    "from keras.models import Model\n",
    "from keras.layers import Input, Dense, Flatten, Dropout, BatchNormalization,Concatenate\n",
    "from keras.layers.convolutional import Conv2D,Conv1D\n",
    "from keras.layers.pooling import MaxPooling2D, MaxPooling1D\n",
    "from keras.layers import concatenate\n",
    "from keras.optimizers import Adam, SGD\n",
    "from keras.regularizers import l1, l2\n",
    "from matplotlib import pyplot as plt\n",
    "from sklearn.metrics import confusion_matrix\n",
    "from keras.callbacks import EarlyStopping"
   ]
  },
  {
   "cell_type": "code",
   "execution_count": null,
   "id": "5950db7f",
   "metadata": {},
   "outputs": [],
   "source": [
    "def facial_emotion(input_shape=(48,48,1)):\n",
    "    # first input model\n",
    "    visible = Input(shape=input_shape, name='input')\n",
    "    num_classes = 7\n",
    "    #the 1-st block\n",
    "    conv1_1 = Conv2D(64, kernel_size=3, activation='relu', padding='same', name = 'conv1_1')(visible)\n",
    "    conv1_1 = BatchNormalization()(conv1_1)\n",
    "    conv1_2 = Conv2D(64, kernel_size=3, activation='relu', padding='same', name = 'conv1_2')(conv1_1)\n",
    "    conv1_2 = BatchNormalization()(conv1_2)\n",
    "    pool1_1 = MaxPooling2D(pool_size=(2,2), name = 'pool1_1')(conv1_2)\n",
    "    drop1_1 = Dropout(0.3, name = 'drop1_1')(pool1_1)\n",
    "    #the 2-nd block\n",
    "    conv2_1 = Conv2D(128, kernel_size=3, activation='relu', padding='same', name = 'conv2_1')(drop1_1)\n",
    "    conv2_1 = BatchNormalization()(conv2_1)\n",
    "    conv2_2 = Conv2D(128, kernel_size=3, activation='relu', padding='same', name = 'conv2_2')(conv2_1)\n",
    "    conv2_2 = BatchNormalization()(conv2_2)\n",
    "    conv2_3 = Conv2D(128, kernel_size=3, activation='relu', padding='same', name = 'conv2_3')(conv2_2)\n",
    "    conv2_2 = BatchNormalization()(conv2_3)\n",
    "    pool2_1 = MaxPooling2D(pool_size=(2,2), name = 'pool2_1')(conv2_3)\n",
    "    drop2_1 = Dropout(0.3, name = 'drop2_1')(pool2_1)\n",
    "    print(model.summary())\n",
    "    \n",
    "    return model"
   ]
  },
  {
   "cell_type": "code",
   "execution_count": null,
   "id": "e174489d",
   "metadata": {},
   "outputs": [],
   "source": [
    "#Compliling the model with adam optimixer and categorical crossentropy loss\n",
    "model_cnn =facial_emotion()\n",
    "opt = Adam(lr=0.0001, decay=1e-6)\n",
    "model_cnn.compile(loss='categorical_crossentropy', optimizer=opt, metrics=['accuracy'])"
   ]
  },
  {
   "cell_type": "code",
   "execution_count": null,
   "id": "5521c25c",
   "metadata": {},
   "outputs": [],
   "source": [
    "num_epochs =20 \n",
    "history = model_cnn.fit_generator(train_flow, \n",
    "                    steps_per_epoch=len(x_train) / batch_size, \n",
    "                    epochs=num_epochs,  \n",
    "                    verbose=1,  \n",
    "                    validation_data=test_flow)"
   ]
  },
  {
   "cell_type": "code",
   "execution_count": null,
   "id": "bf3af559",
   "metadata": {},
   "outputs": [],
   "source": [
    "train_score = model_cnn.evaluate(x_train, y_train, verbose=0)\n",
    "print('Train loss:', train_score[0])\n",
    "print('Train accuracy:', 100*train_score[1])\n",
    " \n",
    "test_score = model_cnn.evaluate(,x_test, y_test, verbose=0)\n",
    "print('Test loss:', test_score[0])\n",
    "print('Test accuracy:', 100*test_score[1])"
   ]
  },
  {
   "cell_type": "markdown",
   "id": "6cbf5af9",
   "metadata": {},
   "source": [
    "# HOG+CNN"
   ]
  },
  {
   "cell_type": "code",
   "execution_count": null,
   "id": "f92fd3e8",
   "metadata": {},
   "outputs": [],
   "source": [
    "#merging HOG features and cnn features\n",
    "model_1D_input = Input(shape=(48,48))\n",
    "#model_1D=Dense(2304, activation='relu',kernel_regularizer=l2(0.001))(model_1D_input)\n",
    "model_1D = Conv1D(32, kernel_size=3 , strides=1, activation='relu',kernel_regularizer=l2(0.0001))(model_1D_input)\n",
    "model_1D = Conv1D(64, kernel_size=3 , strides=1, activation='relu',kernel_regularizer=l2(0.0001))(model_1D)\n",
    "model_1D = MaxPooling1D(pool_size=2, strides= 2)(model_1D)\n",
    "model_1D=Dropout(0.25)(model_1D)\n",
    "model_1D = Conv1D(128, kernel_size=3 , strides=1, activation='relu',kernel_regularizer=l2(0.0001))(model_1D)\n",
    "model_1D = Conv1D(256, kernel_size=3 , strides=1, activation='relu',kernel_regularizer=l2(0.0001))(model_1D)\n",
    "model_1D = MaxPooling1D(pool_size=2, strides=2)(model_1D)\n",
    "model_1D=Dropout(0.3)(model_1D)\n",
    "model_1D = Flatten()(model_1D)\n",
    "model_1D = Dense(2304 , activation='relu',kernel_regularizer=l2(0.0001))(model_1D)\n",
    "\n",
    "\n",
    "\n",
    "model_2D_input = Input((48,48,1))\n",
    "model_2D = Conv2D(32, kernel_size=(3, 3) , strides=(1,1), activation='relu',kernel_regularizer=l2(0.0001))(model_2D_input)\n",
    "model_2D = Conv2D(64, kernel_size=(3, 3) , strides=(1,1), activation='relu',kernel_regularizer=l2(0.0001))(model_2D)\n",
    "model_2D = MaxPooling2D(pool_size=(2, 2), strides=(2, 2))(model_2D)\n",
    "model_2D=Dropout(0.25)(model_2D)\n",
    "model_2D = Conv2D(128, kernel_size=(3, 3) , strides=(1,1), activation='relu',kernel_regularizer=l2(0.0001))(model_2D)\n",
    "model_2D = Conv2D(256, kernel_size=(3, 3) , strides=(1,1), activation='relu',kernel_regularizer=l2(0.0001))(model_2D)\n",
    "model_2D = MaxPooling2D(pool_size=(2, 2), strides=(2, 2))(model_2D)\n",
    "model_2D=Dropout(0.3)(model_2D)\n",
    "model_2D = Flatten()(model_2D)\n",
    "model_2D = Dense(2304 , activation='relu',kernel_regularizer=l2(0.0001))(model_2D)\n",
    "\n",
    "\n",
    "\n",
    "merged = Concatenate()([model_1D,model_2D])\n",
    "output = Dense(7, activation='softmax')(merged)\n",
    "\n",
    "model_HOG_cnn = Model(inputs=[model_1D_input,model_2D_input], outputs=[output])\n"
   ]
  },
  {
   "cell_type": "code",
   "execution_count": null,
   "id": "a33fc0c5",
   "metadata": {},
   "outputs": [],
   "source": [
    "model_HOG_cnn.summary()"
   ]
  },
  {
   "cell_type": "code",
   "execution_count": null,
   "id": "bf57d8ad",
   "metadata": {},
   "outputs": [],
   "source": [
    "model_HOG_cnn.compile(loss='categorical_crossentropy', optimizer='adam', metrics=['accuracy'])"
   ]
  },
  {
   "cell_type": "code",
   "execution_count": null,
   "id": "19ed4517",
   "metadata": {},
   "outputs": [],
   "source": [
    "history = model_HOG_cnn.fit([X_Hog,x_train],y_train,epochs=100,  \n",
    "                    verbose=1,  \n",
    "                    validation_data=([Xt_Hog,x_test],y_test),callbacks = [EarlyStopping(monitor='val_accuracy', patience=5)])"
   ]
  },
  {
   "cell_type": "code",
   "execution_count": null,
   "id": "690f3508",
   "metadata": {},
   "outputs": [],
   "source": [
    "train_score = model_HOG_cnn.evaluate([X_Hog,x_train], y_train, verbose=0)\n",
    "print('Train loss:', train_score[0])\n",
    "print('Train accuracy:', 100*train_score[1])\n",
    " \n",
    "test_score = model_HOG_cnn.evaluate([Xt_Hog,x_test], y_test, verbose=0)\n",
    "print('Test loss:', test_score[0])\n",
    "print('Test accuracy:', 100*test_score[1])"
   ]
  },
  {
   "cell_type": "code",
   "execution_count": null,
   "id": "da374191",
   "metadata": {},
   "outputs": [],
   "source": [
    "plt.figure(figsize=(20,10))\n",
    "plt.subplot(1, 2, 1)\n",
    "plt.suptitle('Optimizer : Adam', fontsize=10)\n",
    "plt.ylabel('Loss', fontsize=16)\n",
    "plt.plot(history.history['loss'], label='Training Loss')\n",
    "plt.plot(history.history['val_loss'], label='Validation Loss')\n",
    "plt.legend(loc='upper right')\n",
    "\n",
    "plt.subplot(1, 2, 2)\n",
    "plt.ylabel('Accuracy', fontsize=16)\n",
    "plt.plot(history.history['accuracy'], label='Training Accuracy')\n",
    "plt.plot(history.history['val_accuracy'], label='Validation Accuracy')\n",
    "plt.legend(loc='lower right')\n",
    "plt.show()"
   ]
  },
  {
   "cell_type": "markdown",
   "id": "aac8d5d1",
   "metadata": {},
   "source": [
    "# save the best model "
   ]
  },
  {
   "cell_type": "code",
   "execution_count": null,
   "id": "53da17e2",
   "metadata": {},
   "outputs": [],
   "source": [
    "model_json = model_HOG_cnn.to_json()\n",
    "with open(\"model_final.json\", \"w\") as json_file:\n",
    "    json_file.write(model_json)\n",
    "model_HOG_cnn.save_weights(\"model_final.h5\")\n",
    "print(\"Saved model to disk\")"
   ]
  },
  {
   "cell_type": "code",
   "execution_count": null,
   "id": "8a25fc63",
   "metadata": {},
   "outputs": [],
   "source": [
    "from tensorflow.keras.models import model_from_json\n",
    "model = model_from_json(open(\"model_final.json\", \"r\").read())\n",
    "model.load_weights('model_final.h5')"
   ]
  },
  {
   "cell_type": "code",
   "execution_count": null,
   "id": "27b006f6",
   "metadata": {},
   "outputs": [],
   "source": [
    "import cv2\n",
    "face_haar_cascade = cv2.CascadeClassifier(r'C:\\Users\\ichra\\anaconda3\\Lib\\site-packages\\cv2\\data\\haarcascade_frontalface_default.xml')"
   ]
  },
  {
   "cell_type": "code",
   "execution_count": null,
   "id": "c236f3ef",
   "metadata": {},
   "outputs": [],
   "source": [
    "faceCascade = cv2.CascadeClassifier(r'C:\\Users\\ichra\\anaconda3\\Lib\\site-packages\\cv2\\data\\haarcascade_frontalface_default.xml')\n",
    "\n",
    "video_capture = cv2.VideoCapture(0)\n",
    "model = model_from_json(open(\"model_final.json\", \"r\").read())\n",
    "model.load_weights('model_final.h5')\n",
    "model.get_config()\n",
    "\n",
    "target = ['angry', 'disgust', 'fear', 'happy', 'sad', 'surprise', 'neutral']\n",
    "font = cv2.FONT_HERSHEY_SIMPLEX\n",
    "while True:\n",
    "    # Capture frame-by-frame\n",
    "    ret, frame = video_capture.read()\n",
    "\n",
    "    gray = cv2.cvtColor(frame, cv2.COLOR_BGR2GRAY)\n",
    "\n",
    "    faces = faceCascade.detectMultiScale(gray, scaleFactor=1.1)\n",
    "\n",
    "    # Draw a rectangle around the faces\n",
    "    for (x, y, w, h) in faces:\n",
    "        cv2.rectangle(frame, (x, y), (x + w, y + h), (0, 255, 0), 2, 5)\n",
    "        face_crop = frame[y:y + h, x:x + w]\n",
    "        face_crop = cv2.resize(face_crop, (48, 48))\n",
    "        f=face_crop\n",
    "        face_crop = cv2.cvtColor(face_crop, cv2.COLOR_BGR2GRAY)\n",
    "        face_crop = np.asarray(face_crop)\n",
    "        #face_crop = np.expand_dims(face_crop, axis = 2)\n",
    "        face_crop =face_crop.reshape(-1,48,48,1)\n",
    "        fd, hog_image = hog(f, orientations=9, pixels_per_cell=(2, 2),\n",
    "                \tcells_per_block=(2, 2), visualize=True, multichannel=True)\n",
    "        hog_image = (255-hog_image) / 255                # normalize as white on black\n",
    "        hog_image=np.expand_dims(hog_image, axis=0) # will move it to (1,28,28)\n",
    "        result = target[np.argmax(model.predict([hog_image,face_crop]))]\n",
    "        cv2.putText(frame, result, (x, y), font, 1, (200, 0, 0), 3, cv2.LINE_AA)\n",
    "\n",
    "    # Display the resulting frame\n",
    "    cv2.imshow('Video', frame)\n",
    "\n",
    "    if cv2.waitKey(1) & 0xFF == ord('q'):\n",
    "        break\n",
    "\n",
    "# When everything is done, release the capture\n",
    "video_capture.release()\n",
    "cv2.destroyAllWindows()"
   ]
  },
  {
   "cell_type": "code",
   "execution_count": null,
   "id": "a4e0deaa",
   "metadata": {},
   "outputs": [],
   "source": [
    "video_capture.release()\n"
   ]
  },
  {
   "cell_type": "code",
   "execution_count": null,
   "id": "9f5d94b0",
   "metadata": {},
   "outputs": [],
   "source": []
  }
 ],
 "metadata": {
  "kernelspec": {
   "display_name": "Python 3 (ipykernel)",
   "language": "python",
   "name": "python3"
  },
  "language_info": {
   "codemirror_mode": {
    "name": "ipython",
    "version": 3
   },
   "file_extension": ".py",
   "mimetype": "text/x-python",
   "name": "python",
   "nbconvert_exporter": "python",
   "pygments_lexer": "ipython3",
   "version": "3.9.12"
  }
 },
 "nbformat": 4,
 "nbformat_minor": 5
}
